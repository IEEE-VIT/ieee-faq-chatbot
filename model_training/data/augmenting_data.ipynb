{
 "cells": [
  {
   "cell_type": "code",
   "execution_count": 1,
   "id": "liable-volume",
   "metadata": {},
   "outputs": [],
   "source": [
    "import os\n",
    "import pandas as pd"
   ]
  },
  {
   "cell_type": "code",
   "execution_count": 2,
   "id": "indonesian-staff",
   "metadata": {},
   "outputs": [],
   "source": [
    "import nlpaug.augmenter.char as nac\n",
    "import nlpaug.augmenter.word as naw\n",
    "import nlpaug.augmenter.sentence as nas\n",
    "import nlpaug.flow as nafc\n",
    "\n",
    "from nlpaug.util import Action"
   ]
  },
  {
   "cell_type": "code",
   "execution_count": 24,
   "id": "finished-pattern",
   "metadata": {},
   "outputs": [],
   "source": [
    "def load_dataset(filename):\n",
    "    df = pd.read_csv(filename, encoding = \"latin1\", names = [\"question\", \"intent\"])\n",
    "    df=df.dropna()\n",
    "    print(df.head())\n",
    "    print(df.isnull().any())\n",
    "    intent = df[\"intent\"]\n",
    "    unique_intent = list(set(intent))\n",
    "    question = list(df[\"question\"])\n",
    "    return (intent, unique_intent, question)"
   ]
  },
  {
   "cell_type": "code",
   "execution_count": 25,
   "id": "liked-bidding",
   "metadata": {},
   "outputs": [
    {
     "name": "stdout",
     "output_type": "stream",
     "text": [
      "            question  intent\n",
      "0                 yo  gen_hi\n",
      "1               Heya  gen_hi\n",
      "2            Namaste  gen_hi\n",
      "3                Hey  gen_hi\n",
      "4  Great to see you!  gen_hi\n",
      "question    False\n",
      "intent      False\n",
      "dtype: bool\n"
     ]
    }
   ],
   "source": [
    "intent, unique_intent, question = load_dataset(\"raw_data.csv\")"
   ]
  },
  {
   "cell_type": "code",
   "execution_count": 26,
   "id": "clean-plant",
   "metadata": {},
   "outputs": [],
   "source": [
    "def augmenting (text):\n",
    "    aug = naw.ContextualWordEmbsAug(model_path='distilbert-base-uncased', action=\"substitute\",stopwords=stopwords)\n",
    "    augmented_text = aug.augment(text, n=1)\n",
    "    return augmented_text"
   ]
  },
  {
   "cell_type": "code",
   "execution_count": 27,
   "id": "purple-maria",
   "metadata": {},
   "outputs": [],
   "source": [
    "def augmenting1 (text):\n",
    "    aug2 = naw.ContextualWordEmbsAug(model_path='distilbert-base-uncased', action=\"insert\",stopwords=stopwords)\n",
    "    augmented_text1 = aug2.augment(text, n=1)\n",
    "    return augmented_text1"
   ]
  },
  {
   "cell_type": "code",
   "execution_count": 28,
   "id": "failing-trustee",
   "metadata": {},
   "outputs": [],
   "source": [
    "A1=question\n",
    "B1=[]"
   ]
  },
  {
   "cell_type": "code",
   "execution_count": 29,
   "id": "decent-submission",
   "metadata": {},
   "outputs": [],
   "source": [
    "stopwords=['ieee',\"IEEE\",\"techloop\",\"Techloop\",\"github\",\"Github\",\"GitHub\"]"
   ]
  },
  {
   "cell_type": "code",
   "execution_count": 30,
   "id": "binding-consumption",
   "metadata": {},
   "outputs": [],
   "source": [
    "for i in A1[:]:\n",
    "    A1.append(augmenting(i))"
   ]
  },
  {
   "cell_type": "code",
   "execution_count": 31,
   "id": "junior-pakistan",
   "metadata": {},
   "outputs": [],
   "source": [
    "for i in A1[:]:\n",
    "    A1.append(augmenting1(i))"
   ]
  },
  {
   "cell_type": "code",
   "execution_count": 32,
   "id": "permanent-racing",
   "metadata": {},
   "outputs": [],
   "source": [
    "df1=pd.DataFrame(A1)\n",
    "df1.to_csv('raw_data_augmented_1.csv')"
   ]
  },
  {
   "cell_type": "code",
   "execution_count": 33,
   "id": "acceptable-projection",
   "metadata": {},
   "outputs": [
    {
     "name": "stdout",
     "output_type": "stream",
     "text": [
      "            question  intent\n",
      "0                 yo  gen_hi\n",
      "1               Heya  gen_hi\n",
      "2            Namaste  gen_hi\n",
      "3                Hey  gen_hi\n",
      "4  Great to see you!  gen_hi\n",
      "question    False\n",
      "intent      False\n",
      "dtype: bool\n"
     ]
    }
   ],
   "source": [
    "intent, unique_intent, question = load_dataset(\"raw_data_augmented_1.csv\")"
   ]
  },
  {
   "cell_type": "code",
   "execution_count": 34,
   "id": "official-sandwich",
   "metadata": {},
   "outputs": [],
   "source": [
    "def augmenting_syn(text):\n",
    "    aug1 = naw.SynonymAug(aug_src='wordnet',stopwords=stopwords)\n",
    "    augmented_text1 = aug1.augment(text)\n",
    "\n",
    "    return (augmented_text1)"
   ]
  },
  {
   "cell_type": "code",
   "execution_count": 35,
   "id": "classified-roots",
   "metadata": {},
   "outputs": [],
   "source": [
    "def augmenting_swap_word(text):\n",
    "    aug4 = naw.RandomWordAug(action='swap',stopwords=stopwords,aug_max=3)\n",
    "    augmented_text4 = aug4.augment(text)\n",
    "\n",
    "    return (augmented_text4)"
   ]
  },
  {
   "cell_type": "code",
   "execution_count": 36,
   "id": "assisted-inventory",
   "metadata": {},
   "outputs": [],
   "source": [
    "A=question\n",
    "B=[]"
   ]
  },
  {
   "cell_type": "code",
   "execution_count": 37,
   "id": "imported-purse",
   "metadata": {},
   "outputs": [],
   "source": [
    "for j in range(3):\n",
    "    for i in A[:]:\n",
    "        B.append(augmenting_swap_word(i)) "
   ]
  },
  {
   "cell_type": "code",
   "execution_count": 38,
   "id": "suited-evans",
   "metadata": {},
   "outputs": [],
   "source": [
    "for j in range(3):\n",
    "    for i in A[:]:\n",
    "        B.append(augmenting_syn(i)) "
   ]
  },
  {
   "cell_type": "code",
   "execution_count": 40,
   "id": "simplified-layer",
   "metadata": {},
   "outputs": [],
   "source": [
    "df2=pd.DataFrame(B)\n",
    "df2.to_csv('augmented_data.csv')"
   ]
  },
  {
   "cell_type": "code",
   "execution_count": null,
   "id": "fresh-syndicate",
   "metadata": {},
   "outputs": [],
   "source": []
  },
  {
   "cell_type": "code",
   "execution_count": null,
   "id": "electric-insertion",
   "metadata": {},
   "outputs": [],
   "source": []
  }
 ],
 "metadata": {
  "kernelspec": {
   "display_name": "Python [conda env:tf-gpu] *",
   "language": "python",
   "name": "conda-env-tf-gpu-py"
  },
  "language_info": {
   "codemirror_mode": {
    "name": "ipython",
    "version": 3
   },
   "file_extension": ".py",
   "mimetype": "text/x-python",
   "name": "python",
   "nbconvert_exporter": "python",
   "pygments_lexer": "ipython3",
   "version": "3.8.8"
  }
 },
 "nbformat": 4,
 "nbformat_minor": 5
}
