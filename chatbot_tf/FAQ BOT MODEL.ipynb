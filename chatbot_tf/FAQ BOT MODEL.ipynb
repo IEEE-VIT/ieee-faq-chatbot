{
 "cells": [
  {
   "cell_type": "code",
   "execution_count": 1,
   "id": "healthy-college",
   "metadata": {},
   "outputs": [],
   "source": [
    "import pandas as pd\n",
    "import numpy as np\n",
    "import matplotlib.pyplot as plt\n",
    "import tensorflow as tf\n",
    "\n",
    "physical_devices = tf.config.list_physical_devices('GPU')\n",
    "tf.config.experimental.set_memory_growth(physical_devices[0], enable=True)"
   ]
  },
  {
   "cell_type": "code",
   "execution_count": 2,
   "id": "circular-mills",
   "metadata": {},
   "outputs": [],
   "source": [
    "import tensorflow as tf\n",
    "from tensorflow import keras\n",
    "from tensorflow.keras.models import Sequential, load_model\n",
    "from tensorflow.keras.layers import Dense, LSTM, Bidirectional, Embedding, Dropout, GRU\n",
    "from tensorflow.keras.preprocessing.text import Tokenizer\n",
    "from tensorflow.keras.preprocessing.sequence import pad_sequences\n",
    "from tensorflow.keras.utils import to_categorical\n",
    "from tensorflow.keras.callbacks import ModelCheckpoint\n",
    "from tensorflow.keras.optimizers import SGD"
   ]
  },
  {
   "cell_type": "code",
   "execution_count": 3,
   "id": "relevant-bibliography",
   "metadata": {},
   "outputs": [],
   "source": [
    "import re\n",
    "import nltk\n",
    "from nltk.corpus import stopwords\n",
    "from nltk.tokenize import word_tokenize\n",
    "from nltk.stem.lancaster import LancasterStemmer\n",
    "from sklearn.preprocessing import OneHotEncoder"
   ]
  },
  {
   "cell_type": "code",
   "execution_count": 7,
   "id": "formal-france",
   "metadata": {},
   "outputs": [],
   "source": [
    "def load_dataset(filename):\n",
    "    df = pd.read_csv(filename, encoding = \"latin1\", names = [\"question\", \"intent\"])\n",
    "    df=df.dropna()\n",
    "    print(df.head())\n",
    "    print(df.isnull().any())\n",
    "    intent = df[\"intent\"]\n",
    "    unique_intent = list(set(intent))\n",
    "    question = list(df[\"question\"])\n",
    "    return (intent, unique_intent, question)"
   ]
  },
  {
   "cell_type": "code",
   "execution_count": 8,
   "id": "nominated-genesis",
   "metadata": {},
   "outputs": [
    {
     "name": "stdout",
     "output_type": "stream",
     "text": [
      "            question  intent\n",
      "0                 yo  gen_hi\n",
      "1               Heya  gen_hi\n",
      "2            Namaste  gen_hi\n",
      "3                Hey  gen_hi\n",
      "4  Great see to you!  gen_hi\n",
      "question    False\n",
      "intent      False\n",
      "dtype: bool\n"
     ]
    }
   ],
   "source": [
    "intent, unique_intent, question = load_dataset(\"raw_data_augmented_final.csv\")"
   ]
  },
  {
   "cell_type": "code",
   "execution_count": 9,
   "id": "administrative-calvin",
   "metadata": {},
   "outputs": [
    {
     "name": "stdout",
     "output_type": "stream",
     "text": [
      "['. hooman?', 'You are human?', 'Are you a person or a bot?', 'Humans me amuse are, you one?', \"You ' not re human\"]\n",
      "['ieee_github', 'ieee_how_long', 'gen_who_made', 'ieee_domains', 'ieee_be_part_who', 'gen_human', 'ieee_past_events', 'ieee_sponsor', 'gen_help', 'ieee_projects', 'gen_who_you', 'ieee_what_does', 'gen_hi', 'ieee_collab', 'gen_thanks', 'ieee_other_college', 'ieee_current_board', 'ieee_other_linked', 'ieee_social_media', 'gen_query', 'ieee_what', 'gen_bot', 'ieee_future_events', 'ieee_further_contact', 'gen_how_you', 'ieee_techloop', 'gen_bye']\n"
     ]
    }
   ],
   "source": [
    "print(question[100:105])\n",
    "print(unique_intent)"
   ]
  },
  {
   "cell_type": "code",
   "execution_count": 10,
   "id": "joint-lodging",
   "metadata": {},
   "outputs": [],
   "source": [
    "def cleaning(question):\n",
    "    words = []\n",
    "    for s in question:\n",
    "        clean = re.sub(r'[^a-z A-Z]', \" \", s)\n",
    "        w = word_tokenize(clean)\n",
    "        #stemming\n",
    "        words.append([i.lower() for i in w])\n",
    "    \n",
    "    return words  "
   ]
  },
  {
   "cell_type": "code",
   "execution_count": 11,
   "id": "musical-mixer",
   "metadata": {},
   "outputs": [
    {
     "name": "stdout",
     "output_type": "stream",
     "text": [
      "14385\n"
     ]
    }
   ],
   "source": [
    "cleaned_words = cleaning(question)\n",
    "print(len(cleaned_words))"
   ]
  },
  {
   "cell_type": "code",
   "execution_count": 12,
   "id": "coated-europe",
   "metadata": {},
   "outputs": [
    {
     "name": "stdout",
     "output_type": "stream",
     "text": [
      "[['yo'], ['heya'], ['namaste'], ['hey'], ['great', 'see', 'to', 'you'], ['ssup'], ['whatup'], ['yo']]\n"
     ]
    }
   ],
   "source": [
    "print(cleaned_words[:8])"
   ]
  },
  {
   "cell_type": "code",
   "execution_count": 13,
   "id": "difficult-remark",
   "metadata": {},
   "outputs": [],
   "source": [
    "def create_tokenizer(words, filters = '!\"#$%&*+,-./:;<=>?@[\\]^`{|}~'):\n",
    "    token = Tokenizer(filters = filters)\n",
    "    token.fit_on_texts(words)\n",
    "    return token"
   ]
  },
  {
   "cell_type": "code",
   "execution_count": 14,
   "id": "identified-dressing",
   "metadata": {},
   "outputs": [],
   "source": [
    "def max_length(words):\n",
    "    return(len(max(words, key = len)))"
   ]
  },
  {
   "cell_type": "code",
   "execution_count": 15,
   "id": "missing-vampire",
   "metadata": {},
   "outputs": [
    {
     "name": "stdout",
     "output_type": "stream",
     "text": [
      "Vocab Size = 2909 and Maximum length = 58\n"
     ]
    }
   ],
   "source": [
    "word_tokenizer = create_tokenizer(cleaned_words)\n",
    "vocab_size = len(word_tokenizer.word_index) + 1\n",
    "max_length = max_length(cleaned_words)\n",
    "\n",
    "print(\"Vocab Size = %d and Maximum length = %d\" % (vocab_size, max_length))"
   ]
  },
  {
   "cell_type": "code",
   "execution_count": 16,
   "id": "nasty-wilson",
   "metadata": {},
   "outputs": [],
   "source": [
    "def encoding_doc(token, words):\n",
    "    return(token.texts_to_sequences(words))"
   ]
  },
  {
   "cell_type": "code",
   "execution_count": 17,
   "id": "vanilla-wayne",
   "metadata": {},
   "outputs": [],
   "source": [
    "encoded_doc = encoding_doc(word_tokenizer, cleaned_words)"
   ]
  },
  {
   "cell_type": "code",
   "execution_count": 18,
   "id": "pointed-curve",
   "metadata": {},
   "outputs": [],
   "source": [
    "def padding_doc(encoded_doc, max_length):\n",
    "    return(pad_sequences(encoded_doc, maxlen = max_length, padding = \"post\"))"
   ]
  },
  {
   "cell_type": "code",
   "execution_count": 19,
   "id": "advisory-affect",
   "metadata": {},
   "outputs": [],
   "source": [
    "padded_doc = padding_doc(encoded_doc, max_length)"
   ]
  },
  {
   "cell_type": "code",
   "execution_count": 20,
   "id": "muslim-idaho",
   "metadata": {},
   "outputs": [
    {
     "data": {
      "text/plain": [
       "array([[ 94,  15,   1,   0,   0,   0,   0,   0,   0,   0,   0,   0,   0,\n",
       "          0,   0,   0,   0,   0,   0,   0,   0,   0,   0,   0,   0,   0,\n",
       "          0,   0,   0,   0,   0,   0,   0,   0,   0,   0,   0,   0,   0,\n",
       "          0,   0,   0,   0,   0,   0,   0,   0,   0,   0,   0,   0,   0,\n",
       "          0,   0,   0,   0,   0,   0],\n",
       "       [464,  15,   1,   0,   0,   0,   0,   0,   0,   0,   0,   0,   0,\n",
       "          0,   0,   0,   0,   0,   0,   0,   0,   0,   0,   0,   0,   0,\n",
       "          0,   0,   0,   0,   0,   0,   0,   0,   0,   0,   0,   0,   0,\n",
       "          0,   0,   0,   0,   0,   0,   0,   0,   0,   0,   0,   0,   0,\n",
       "          0,   0,   0,   0,   0,   0],\n",
       "       [ 15,  14,  13, 433,   0,   0,   0,   0,   0,   0,   0,   0,   0,\n",
       "          0,   0,   0,   0,   0,   0,   0,   0,   0,   0,   0,   0,   0,\n",
       "          0,   0,   0,   0,   0,   0,   0,   0,   0,   0,   0,   0,   0,\n",
       "          0,   0,   0,   0,   0,   0,   0,   0,   0,   0,   0,   0,   0,\n",
       "          0,   0,   0,   0,   0,   0]])"
      ]
     },
     "execution_count": 20,
     "metadata": {},
     "output_type": "execute_result"
    }
   ],
   "source": [
    "padded_doc[115:118]"
   ]
  },
  {
   "cell_type": "code",
   "execution_count": 21,
   "id": "beautiful-requirement",
   "metadata": {},
   "outputs": [
    {
     "name": "stdout",
     "output_type": "stream",
     "text": [
      "Shape of padded docs =  (14385, 58)\n"
     ]
    }
   ],
   "source": [
    "print(\"Shape of padded docs = \",padded_doc.shape)"
   ]
  },
  {
   "cell_type": "code",
   "execution_count": 22,
   "id": "floating-redhead",
   "metadata": {},
   "outputs": [],
   "source": [
    "output_tokenizer = create_tokenizer(unique_intent)"
   ]
  },
  {
   "cell_type": "code",
   "execution_count": 23,
   "id": "level-tamil",
   "metadata": {},
   "outputs": [
    {
     "data": {
      "text/plain": [
       "{'ieee_github': 1,\n",
       " 'ieee_how_long': 2,\n",
       " 'gen_who_made': 3,\n",
       " 'ieee_domains': 4,\n",
       " 'ieee_be_part_who': 5,\n",
       " 'gen_human': 6,\n",
       " 'ieee_past_events': 7,\n",
       " 'ieee_sponsor': 8,\n",
       " 'gen_help': 9,\n",
       " 'ieee_projects': 10,\n",
       " 'gen_who_you': 11,\n",
       " 'ieee_what_does': 12,\n",
       " 'gen_hi': 13,\n",
       " 'ieee_collab': 14,\n",
       " 'gen_thanks': 15,\n",
       " 'ieee_other_college': 16,\n",
       " 'ieee_current_board': 17,\n",
       " 'ieee_other_linked': 18,\n",
       " 'ieee_social_media': 19,\n",
       " 'gen_query': 20,\n",
       " 'ieee_what': 21,\n",
       " 'gen_bot': 22,\n",
       " 'ieee_future_events': 23,\n",
       " 'ieee_further_contact': 24,\n",
       " 'gen_how_you': 25,\n",
       " 'ieee_techloop': 26,\n",
       " 'gen_bye': 27}"
      ]
     },
     "execution_count": 23,
     "metadata": {},
     "output_type": "execute_result"
    }
   ],
   "source": [
    "output_tokenizer.word_index"
   ]
  },
  {
   "cell_type": "code",
   "execution_count": 24,
   "id": "assured-satin",
   "metadata": {},
   "outputs": [],
   "source": [
    "encoded_output = encoding_doc(output_tokenizer, intent)"
   ]
  },
  {
   "cell_type": "code",
   "execution_count": 25,
   "id": "simple-isolation",
   "metadata": {},
   "outputs": [],
   "source": [
    "encoded_output = np.array(encoded_output).reshape(len(encoded_output), 1)"
   ]
  },
  {
   "cell_type": "code",
   "execution_count": 26,
   "id": "bored-superior",
   "metadata": {},
   "outputs": [
    {
     "data": {
      "text/plain": [
       "(14385, 1)"
      ]
     },
     "execution_count": 26,
     "metadata": {},
     "output_type": "execute_result"
    }
   ],
   "source": [
    "encoded_output.shape"
   ]
  },
  {
   "cell_type": "code",
   "execution_count": 27,
   "id": "worse-restaurant",
   "metadata": {},
   "outputs": [],
   "source": [
    "def one_hot(encode):\n",
    "    o = OneHotEncoder(sparse = False)\n",
    "    return(o.fit_transform(encode))"
   ]
  },
  {
   "cell_type": "code",
   "execution_count": 28,
   "id": "younger-tackle",
   "metadata": {},
   "outputs": [],
   "source": [
    "output_one_hot = one_hot(encoded_output)"
   ]
  },
  {
   "cell_type": "code",
   "execution_count": 29,
   "id": "middle-stack",
   "metadata": {},
   "outputs": [
    {
     "data": {
      "text/plain": [
       "(14385, 27)"
      ]
     },
     "execution_count": 29,
     "metadata": {},
     "output_type": "execute_result"
    }
   ],
   "source": [
    "output_one_hot.shape"
   ]
  },
  {
   "cell_type": "code",
   "execution_count": 30,
   "id": "common-disposition",
   "metadata": {},
   "outputs": [],
   "source": [
    "from sklearn.model_selection import train_test_split"
   ]
  },
  {
   "cell_type": "code",
   "execution_count": 31,
   "id": "latin-genome",
   "metadata": {},
   "outputs": [],
   "source": [
    "x_train, x_val, y_train, y_val = train_test_split(padded_doc, output_one_hot, shuffle = True, test_size = 0.2)"
   ]
  },
  {
   "cell_type": "code",
   "execution_count": 32,
   "id": "motivated-interaction",
   "metadata": {},
   "outputs": [
    {
     "name": "stdout",
     "output_type": "stream",
     "text": [
      "Shape of train_X = (11508, 58) and train_Y = (11508, 27)\n",
      "Shape of val_X = (2877, 58) and val_Y = (2877, 27)\n"
     ]
    }
   ],
   "source": [
    "print(\"Shape of train_X = %s and train_Y = %s\" % (x_train.shape, y_train.shape))\n",
    "print(\"Shape of val_X = %s and val_Y = %s\" % (x_val.shape, y_val.shape))"
   ]
  },
  {
   "cell_type": "code",
   "execution_count": 33,
   "id": "nasty-pursuit",
   "metadata": {},
   "outputs": [],
   "source": [
    "model=Sequential()\n",
    "model.add(Embedding(vocab_size, 128, input_length = max_length, trainable = True))\n",
    "#model.add(GRU(128,return_sequences=True))\n",
    "model.add(Bidirectional(LSTM(128,return_sequences=True)))\n",
    "#model.add(GRU(128,return_sequences=False))\n",
    "model.add(Bidirectional(LSTM(128)))\n",
    "model.add(Dense(64, activation = \"relu\"))    ###\n",
    "model.add(Dropout(0.5))\n",
    "#model.add(Dense(96, activation = \"relu\"))    ###\n",
    "#model.add(Dropout(0.3))\n",
    "model.add(Dense(27, activation = \"softmax\"))"
   ]
  },
  {
   "cell_type": "code",
   "execution_count": 34,
   "id": "successful-herald",
   "metadata": {},
   "outputs": [],
   "source": [
    "opt = SGD(lr=0.01, momentum=0.9)\n",
    "#model.compile(loss='kullback_leibler_divergence', optimizer='adam', metrics=['accuracy'])\n",
    "model.compile(loss = \"categorical_crossentropy\", optimizer = \"adam\", metrics = [\"accuracy\"])"
   ]
  },
  {
   "cell_type": "code",
   "execution_count": 35,
   "id": "invisible-decision",
   "metadata": {
    "scrolled": true
   },
   "outputs": [
    {
     "name": "stdout",
     "output_type": "stream",
     "text": [
      "Epoch 1/20\n",
      "1439/1439 [==============================] - 46s 27ms/step - loss: 2.3811 - accuracy: 0.2929 - val_loss: 0.3328 - val_accuracy: 0.9027\n",
      "\n",
      "Epoch 00001: val_loss improved from inf to 0.33281, saving model to ieee_bot_test1.h5\n",
      "Epoch 2/20\n",
      "1439/1439 [==============================] - 36s 25ms/step - loss: 0.3565 - accuracy: 0.9102 - val_loss: 0.1489 - val_accuracy: 0.9625\n",
      "\n",
      "Epoch 00002: val_loss improved from 0.33281 to 0.14891, saving model to ieee_bot_test1.h5\n",
      "Epoch 3/20\n",
      "1439/1439 [==============================] - 36s 25ms/step - loss: 0.1556 - accuracy: 0.9630 - val_loss: 0.1597 - val_accuracy: 0.9572\n",
      "\n",
      "Epoch 00003: val_loss did not improve from 0.14891\n",
      "Epoch 4/20\n",
      "1439/1439 [==============================] - 36s 25ms/step - loss: 0.1456 - accuracy: 0.9642 - val_loss: 0.1848 - val_accuracy: 0.9579\n",
      "\n",
      "Epoch 00004: val_loss did not improve from 0.14891\n",
      "Epoch 5/20\n",
      "1439/1439 [==============================] - 37s 26ms/step - loss: 0.1061 - accuracy: 0.9721 - val_loss: 0.1200 - val_accuracy: 0.9725\n",
      "\n",
      "Epoch 00005: val_loss improved from 0.14891 to 0.12002, saving model to ieee_bot_test1.h5\n",
      "Epoch 6/20\n",
      "1439/1439 [==============================] - 38s 27ms/step - loss: 0.0616 - accuracy: 0.9842 - val_loss: 0.1265 - val_accuracy: 0.9725\n",
      "\n",
      "Epoch 00006: val_loss did not improve from 0.12002\n",
      "Epoch 7/20\n",
      "1439/1439 [==============================] - 39s 27ms/step - loss: 0.0768 - accuracy: 0.9807 - val_loss: 0.1019 - val_accuracy: 0.9732\n",
      "\n",
      "Epoch 00007: val_loss improved from 0.12002 to 0.10189, saving model to ieee_bot_test1.h5\n",
      "Epoch 8/20\n",
      "1439/1439 [==============================] - 40s 28ms/step - loss: 0.0420 - accuracy: 0.9907 - val_loss: 0.1521 - val_accuracy: 0.9698\n",
      "\n",
      "Epoch 00008: val_loss did not improve from 0.10189\n",
      "Epoch 9/20\n",
      "1439/1439 [==============================] - 40s 28ms/step - loss: 0.0623 - accuracy: 0.9845 - val_loss: 0.1340 - val_accuracy: 0.9778\n",
      "\n",
      "Epoch 00009: val_loss did not improve from 0.10189\n",
      "Epoch 10/20\n",
      "1439/1439 [==============================] - 40s 28ms/step - loss: 0.0451 - accuracy: 0.9889 - val_loss: 0.0970 - val_accuracy: 0.9826\n",
      "\n",
      "Epoch 00010: val_loss improved from 0.10189 to 0.09704, saving model to ieee_bot_test1.h5\n",
      "Epoch 11/20\n",
      "1439/1439 [==============================] - 40s 28ms/step - loss: 0.0392 - accuracy: 0.9903 - val_loss: 0.1178 - val_accuracy: 0.9795\n",
      "\n",
      "Epoch 00011: val_loss did not improve from 0.09704\n",
      "Epoch 12/20\n",
      "1439/1439 [==============================] - 41s 29ms/step - loss: 0.0451 - accuracy: 0.9886 - val_loss: 0.1302 - val_accuracy: 0.9774\n",
      "\n",
      "Epoch 00012: val_loss did not improve from 0.09704\n",
      "Epoch 13/20\n",
      "1439/1439 [==============================] - 41s 29ms/step - loss: 0.0507 - accuracy: 0.9893 - val_loss: 0.1002 - val_accuracy: 0.9823\n",
      "\n",
      "Epoch 00013: val_loss did not improve from 0.09704\n",
      "Epoch 14/20\n",
      "1439/1439 [==============================] - 42s 29ms/step - loss: 0.0230 - accuracy: 0.9941 - val_loss: 0.0986 - val_accuracy: 0.9840\n",
      "\n",
      "Epoch 00014: val_loss did not improve from 0.09704\n",
      "Epoch 15/20\n",
      "1439/1439 [==============================] - 42s 29ms/step - loss: 0.0206 - accuracy: 0.9934 - val_loss: 0.1020 - val_accuracy: 0.9861\n",
      "\n",
      "Epoch 00015: val_loss did not improve from 0.09704\n",
      "Epoch 16/20\n",
      "1439/1439 [==============================] - 43s 30ms/step - loss: 0.0210 - accuracy: 0.9942 - val_loss: 0.1154 - val_accuracy: 0.9816\n",
      "\n",
      "Epoch 00016: val_loss did not improve from 0.09704\n",
      "Epoch 17/20\n",
      "1439/1439 [==============================] - 42s 29ms/step - loss: 0.0247 - accuracy: 0.9936 - val_loss: 0.0943 - val_accuracy: 0.9861\n",
      "\n",
      "Epoch 00017: val_loss improved from 0.09704 to 0.09426, saving model to ieee_bot_test1.h5\n",
      "Epoch 18/20\n",
      "1439/1439 [==============================] - 42s 29ms/step - loss: 0.0186 - accuracy: 0.9949 - val_loss: 0.1238 - val_accuracy: 0.9816\n",
      "\n",
      "Epoch 00018: val_loss did not improve from 0.09426\n",
      "Epoch 19/20\n",
      "1439/1439 [==============================] - 42s 29ms/step - loss: 0.0316 - accuracy: 0.9920 - val_loss: 0.1197 - val_accuracy: 0.9840\n",
      "\n",
      "Epoch 00019: val_loss did not improve from 0.09426\n",
      "Epoch 20/20\n",
      "1439/1439 [==============================] - 43s 30ms/step - loss: 0.0199 - accuracy: 0.9936 - val_loss: 0.1545 - val_accuracy: 0.9819\n",
      "\n",
      "Epoch 00020: val_loss did not improve from 0.09426\n"
     ]
    }
   ],
   "source": [
    "filename = 'ieee_bot_test1.h5'\n",
    "checkpoint = ModelCheckpoint(filename, monitor='val_loss', verbose=1, save_best_only=True, mode='min')\n",
    "#history = model.fit(x_train, y_train, epochs = 100, batch_size = 8, validation_split=0.2, verbose=1, callbacks=[checkpoint])\n",
    "history = model.fit(x_train, y_train, epochs = 20, batch_size = 8, validation_data= (x_val, y_val), verbose=1,callbacks=[checkpoint])"
   ]
  },
  {
   "cell_type": "code",
   "execution_count": 36,
   "id": "rising-atlanta",
   "metadata": {},
   "outputs": [
    {
     "name": "stdout",
     "output_type": "stream",
     "text": [
      "Model: \"sequential\"\n",
      "_________________________________________________________________\n",
      "Layer (type)                 Output Shape              Param #   \n",
      "=================================================================\n",
      "embedding (Embedding)        (None, 58, 128)           372352    \n",
      "_________________________________________________________________\n",
      "bidirectional (Bidirectional (None, 58, 256)           263168    \n",
      "_________________________________________________________________\n",
      "bidirectional_1 (Bidirection (None, 256)               394240    \n",
      "_________________________________________________________________\n",
      "dense (Dense)                (None, 64)                16448     \n",
      "_________________________________________________________________\n",
      "dropout (Dropout)            (None, 64)                0         \n",
      "_________________________________________________________________\n",
      "dense_1 (Dense)              (None, 27)                1755      \n",
      "=================================================================\n",
      "Total params: 1,047,963\n",
      "Trainable params: 1,047,963\n",
      "Non-trainable params: 0\n",
      "_________________________________________________________________\n"
     ]
    }
   ],
   "source": [
    "model.summary()"
   ]
  },
  {
   "cell_type": "code",
   "execution_count": 37,
   "id": "vocational-constraint",
   "metadata": {},
   "outputs": [
    {
     "data": {
      "image/png": "[encoded data removed]",
      "text/plain": [
       "<Figure size 432x288 with 1 Axes>"
      ]
     },
     "metadata": {
      "needs_background": "light"
     },
     "output_type": "display_data"
    }
   ],
   "source": [
    "def plotloss(history):\n",
    "    plt.plot(history.history['val_accuracy'])\n",
    "    plt.plot(history.history['accuracy'])\n",
    "    plt.title('model accuracy')\n",
    "    plt.ylabel('accuracy')\n",
    "    plt.xlabel('epoch')\n",
    "    plt.legend(['val_accuracy', 'Train_accuracy'], loc = 'lower right')\n",
    "    plt.show()\n",
    "    \n",
    "plotloss(history)"
   ]
  },
  {
   "cell_type": "code",
   "execution_count": 38,
   "id": "rapid-diagnosis",
   "metadata": {},
   "outputs": [
    {
     "data": {
      "image/png": "[encoded data removed]",
      "text/plain": [
       "<Figure size 432x288 with 1 Axes>"
      ]
     },
     "metadata": {
      "needs_background": "light"
     },
     "output_type": "display_data"
    }
   ],
   "source": [
    "def plotloss1(history):\n",
    "    plt.plot(history.history['val_loss'])\n",
    "    plt.plot(history.history['loss'])\n",
    "    plt.title('model loss')\n",
    "    plt.ylabel('loss')\n",
    "    plt.xlabel('epoch')\n",
    "    plt.legend(['val_loss', 'train_loss'], loc = 'best')\n",
    "    plt.show()\n",
    "    \n",
    "plotloss1(history)"
   ]
  },
  {
   "cell_type": "code",
   "execution_count": 39,
   "id": "indian-script",
   "metadata": {},
   "outputs": [
    {
     "name": "stdout",
     "output_type": "stream",
     "text": [
      "90/90 [==============================] - 1s 14ms/step - loss: 0.1545 - accuracy: 0.9819\n",
      "98.19256067276001\n"
     ]
    }
   ],
   "source": [
    "_,acc=model.evaluate(x_val,y_val)\n",
    "print(acc*100)"
   ]
  },
  {
   "cell_type": "code",
   "execution_count": 40,
   "id": "adjusted-certificate",
   "metadata": {},
   "outputs": [],
   "source": [
    "model = load_model(\"ieee_bot_test1.h5\")"
   ]
  },
  {
   "cell_type": "code",
   "execution_count": 41,
   "id": "floppy-muslim",
   "metadata": {},
   "outputs": [],
   "source": [
    "def predictions(text):\n",
    "    clean = re.sub(r'[^ a-z A-Z 0-9]',\" \", text)\n",
    "    test_word = word_tokenize(clean)\n",
    "    test_word = [w.lower() for w in test_word]\n",
    "    test_ls = word_tokenizer.texts_to_sequences(test_word)\n",
    "    #print(test_word)            ##\n",
    "    #Check for unknown words\n",
    "    if [] in test_ls:\n",
    "        test_ls = list(filter(None, test_ls))\n",
    "    \n",
    "    test_ls = np.array(test_ls).reshape(1, len(test_ls))\n",
    " \n",
    "    x = padding_doc(test_ls, max_length)\n",
    "  \n",
    "    pred = model.predict(x)\n",
    "  \n",
    "    return pred "
   ]
  },
  {
   "cell_type": "code",
   "execution_count": 42,
   "id": "complicated-breach",
   "metadata": {},
   "outputs": [],
   "source": [
    "def get_final_output(pred, classes):\n",
    "    predictions = pred[0]\n",
    " \n",
    "    classes = np.array(classes)\n",
    "    ids = np.argsort(-predictions)\n",
    "    classes = classes[ids]\n",
    "    predictions = -np.sort(-predictions)\n",
    "    pred_intent=classes[0]\n",
    " \n",
    "    for i in range(5):\n",
    "        print(\"%s has confidence = %s\" % (classes[i], (predictions[i])))\n",
    "    return pred_intent\n"
   ]
  },
  {
   "cell_type": "code",
   "execution_count": 43,
   "id": "noble-comfort",
   "metadata": {},
   "outputs": [],
   "source": [
    "def user():\n",
    "    text=input('Enter your query : ')\n",
    "    pred = predictions(text)\n",
    "    get_final_output(pred,unique_intent)"
   ]
  },
  {
   "cell_type": "code",
   "execution_count": 45,
   "id": "prerequisite-hacker",
   "metadata": {},
   "outputs": [
    {
     "name": "stdout",
     "output_type": "stream",
     "text": [
      "Enter your query : what is IEEE?\n",
      "ieee_what has confidence = 1.0\n",
      "ieee_social_media has confidence = 2.8406252e-10\n",
      "ieee_what_does has confidence = 5.6077944e-11\n",
      "ieee_be_part_who has confidence = 4.664177e-11\n",
      "ieee_other_linked has confidence = 4.1401996e-11\n"
     ]
    }
   ],
   "source": [
    "user()"
   ]
  },
  {
   "cell_type": "code",
   "execution_count": null,
   "id": "reflected-maldives",
   "metadata": {},
   "outputs": [],
   "source": []
  }
 ],
 "metadata": {
  "kernelspec": {
   "display_name": "Python [conda env:tf-gpu] *",
   "language": "python",
   "name": "conda-env-tf-gpu-py"
  },
  "language_info": {
   "codemirror_mode": {
    "name": "ipython",
    "version": 3
   },
   "file_extension": ".py",
   "mimetype": "text/x-python",
   "name": "python",
   "nbconvert_exporter": "python",
   "pygments_lexer": "ipython3",
   "version": "3.8.8"
  }
 },
 "nbformat": 4,
 "nbformat_minor": 5
}
