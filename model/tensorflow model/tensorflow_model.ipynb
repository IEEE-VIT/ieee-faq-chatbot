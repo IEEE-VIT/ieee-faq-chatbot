{
 "cells": [
  {
   "cell_type": "code",
   "execution_count": 2,
   "source": [
    "import pandas as pd\r\n",
    "import numpy as np\r\n",
    "import matplotlib.pyplot as plt\r\n",
    "import tensorflow as tf\r\n",
    "import time\r\n",
    "\r\n",
    "physical_devices = tf.config.list_physical_devices('GPU')\r\n",
    "tf.config.experimental.set_memory_growth(physical_devices[0], enable=True)"
   ],
   "outputs": [],
   "metadata": {}
  },
  {
   "cell_type": "code",
   "execution_count": 3,
   "source": [
    "from tensorflow import keras\r\n",
    "from tensorflow.keras.models import Sequential, load_model\r\n",
    "from tensorflow.keras.layers import Dense, LSTM, Bidirectional, Embedding, Dropout\r\n",
    "from tensorflow.keras.preprocessing.text import Tokenizer\r\n",
    "from tensorflow.keras.preprocessing.sequence import pad_sequences\r\n",
    "from tensorflow.keras.callbacks import ModelCheckpoint"
   ],
   "outputs": [],
   "metadata": {}
  },
  {
   "cell_type": "code",
   "execution_count": 4,
   "source": [
    "import re\r\n",
    "import nltk\r\n",
    "from nltk.corpus import stopwords\r\n",
    "from nltk.tokenize import word_tokenize\r\n",
    "from nltk.stem.lancaster import LancasterStemmer\r\n",
    "from sklearn.preprocessing import OneHotEncoder"
   ],
   "outputs": [],
   "metadata": {}
  },
  {
   "cell_type": "code",
   "execution_count": 5,
   "source": [
    "def load_dataset(filename):\r\n",
    "    #read data from csv file with 2 columns: one for question and other for intent\r\n",
    "    df = pd.read_csv(filename, encoding=\"latin1\", names=[\"question\", \"intent\"])\r\n",
    "    df = df.dropna()\r\n",
    "    intent = df[\"intent\"]\r\n",
    "    questions = list(df[\"question\"])\r\n",
    "    return (intent, questions)"
   ],
   "outputs": [],
   "metadata": {}
  },
  {
   "cell_type": "code",
   "execution_count": 6,
   "source": [
    "intent, question = load_dataset(\"augmented_data.csv\")"
   ],
   "outputs": [],
   "metadata": {}
  },
  {
   "cell_type": "code",
   "execution_count": 7,
   "source": [
    "unique_intent = [\r\n",
    "    \"ieee_github\",\r\n",
    "    \"ieee_how_long\",\r\n",
    "    \"gen_who_made\",\r\n",
    "    \"ieee_domains\",\r\n",
    "    \"ieee_be_part_who\",\r\n",
    "    \"gen_human\",\r\n",
    "    \"ieee_past_events\",\r\n",
    "    \"ieee_sponsor\",\r\n",
    "    \"gen_help\",\r\n",
    "    \"ieee_projects\",\r\n",
    "    \"gen_who_you\",\r\n",
    "    \"ieee_what_does\",\r\n",
    "    \"gen_hi\",\r\n",
    "    \"ieee_collab\",\r\n",
    "    \"gen_thanks\",\r\n",
    "    \"ieee_other_college\",\r\n",
    "    \"ieee_current_board\",\r\n",
    "    \"ieee_other_linked\",\r\n",
    "    \"ieee_social_media\",\r\n",
    "    \"gen_query\",\r\n",
    "    \"ieee_what\",\r\n",
    "    \"gen_bot\",\r\n",
    "    \"ieee_future_events\",\r\n",
    "    \"ieee_further_contact\",\r\n",
    "    \"gen_how_you\",\r\n",
    "    \"ieee_techloop\",\r\n",
    "    \"gen_bye\",\r\n",
    "]"
   ],
   "outputs": [],
   "metadata": {}
  },
  {
   "cell_type": "code",
   "execution_count": 8,
   "source": [
    "def cleaning(question):\r\n",
    "    words = []\r\n",
    "    #clean the questions of all punctuations\r\n",
    "    for word in question:\r\n",
    "        clean = re.sub(r\"[^a-z A-Z 0-9]\", \" \", word)\r\n",
    "        clean = word_tokenize(clean)\r\n",
    "        words.append([i.lower() for i in clean])\r\n",
    "\r\n",
    "    return words"
   ],
   "outputs": [],
   "metadata": {}
  },
  {
   "cell_type": "code",
   "execution_count": 9,
   "source": [
    "cleaned_words = cleaning(question)"
   ],
   "outputs": [],
   "metadata": {}
  },
  {
   "cell_type": "code",
   "execution_count": 10,
   "source": [
    "def create_tokenizer(cleaned_words, filters='!\"#$%&*+,-./:;<=>?@[\\]^`{|}~'):\r\n",
    "    #tokenize the cleaned words in questions upto word level \r\n",
    "    token = Tokenizer(filters=filters)\r\n",
    "    token.fit_on_texts(cleaned_words)\r\n",
    "    return token"
   ],
   "outputs": [],
   "metadata": {}
  },
  {
   "cell_type": "code",
   "execution_count": 11,
   "source": [
    "def max_length(cleaned_words):\r\n",
    "    #get the number of words in longest question\r\n",
    "    return len(max(cleaned_words, key=len))"
   ],
   "outputs": [],
   "metadata": {}
  },
  {
   "cell_type": "code",
   "execution_count": 12,
   "source": [
    "word_tokenizer = create_tokenizer(cleaned_words)\r\n",
    "vocab_size = len(word_tokenizer.word_index) + 1\r\n",
    "max_length = max_length(cleaned_words)"
   ],
   "outputs": [],
   "metadata": {}
  },
  {
   "cell_type": "code",
   "execution_count": 13,
   "source": [
    "def encoding_doc(token, words):\r\n",
    "    return(token.texts_to_sequences(words))"
   ],
   "outputs": [],
   "metadata": {}
  },
  {
   "cell_type": "code",
   "execution_count": 14,
   "source": [
    "encoded_doc = encoding_doc(word_tokenizer, cleaned_words)"
   ],
   "outputs": [],
   "metadata": {}
  },
  {
   "cell_type": "code",
   "execution_count": 15,
   "source": [
    "def padding_doc(encoded_doc, max_length):\r\n",
    "    return(pad_sequences(encoded_doc, maxlen = max_length, padding = \"post\"))"
   ],
   "outputs": [],
   "metadata": {}
  },
  {
   "cell_type": "code",
   "execution_count": 16,
   "source": [
    "padded_doc = padding_doc(encoded_doc, max_length)"
   ],
   "outputs": [],
   "metadata": {}
  },
  {
   "cell_type": "code",
   "execution_count": 17,
   "source": [
    "output_tokenizer = create_tokenizer(unique_intent)"
   ],
   "outputs": [],
   "metadata": {}
  },
  {
   "cell_type": "code",
   "execution_count": 19,
   "source": [
    "encoded_output = encoding_doc(output_tokenizer, intent)"
   ],
   "outputs": [],
   "metadata": {}
  },
  {
   "cell_type": "code",
   "execution_count": 20,
   "source": [
    "encoded_output = np.array(encoded_output).reshape(len(encoded_output), 1)"
   ],
   "outputs": [],
   "metadata": {}
  },
  {
   "cell_type": "code",
   "execution_count": 21,
   "source": [
    "def one_hot(encode):\r\n",
    "    o = OneHotEncoder(sparse = False)\r\n",
    "    return(o.fit_transform(encode))"
   ],
   "outputs": [],
   "metadata": {}
  },
  {
   "cell_type": "code",
   "execution_count": 22,
   "source": [
    "output_one_hot = one_hot(encoded_output)"
   ],
   "outputs": [],
   "metadata": {}
  },
  {
   "cell_type": "code",
   "execution_count": 24,
   "source": [
    "from sklearn.model_selection import train_test_split"
   ],
   "outputs": [],
   "metadata": {}
  },
  {
   "cell_type": "code",
   "execution_count": 25,
   "source": [
    "x_train, x_val, y_train, y_val = train_test_split(padded_doc, output_one_hot, shuffle = True, test_size = 0.25)"
   ],
   "outputs": [],
   "metadata": {}
  },
  {
   "cell_type": "code",
   "execution_count": 26,
   "source": [
    "print(\"Shape of train_X = %s and train_Y = %s\" % (x_train.shape, y_train.shape))\r\n",
    "print(\"Shape of val_X = %s and val_Y = %s\" % (x_val.shape, y_val.shape))"
   ],
   "outputs": [
    {
     "output_type": "stream",
     "name": "stdout",
     "text": [
      "Shape of train_X = (10788, 58) and train_Y = (10788, 27)\n",
      "Shape of val_X = (3597, 58) and val_Y = (3597, 27)\n"
     ]
    }
   ],
   "metadata": {}
  },
  {
   "cell_type": "code",
   "execution_count": 27,
   "source": [
    "model=Sequential()\r\n",
    "model.add(Embedding(vocab_size, 128, input_length = max_length, trainable = False))\r\n",
    "#model.add(Bidirectional(LSTM(128,return_sequences=True)))\r\n",
    "model.add(Bidirectional(LSTM(128)))\r\n",
    "model.add(Dense(64, activation = \"relu\"))    \r\n",
    "model.add(Dropout(0.5))\r\n",
    "model.add(Dense(27, activation = \"softmax\"))"
   ],
   "outputs": [],
   "metadata": {}
  },
  {
   "cell_type": "code",
   "execution_count": 28,
   "source": [
    "model.compile(loss = \"categorical_crossentropy\", optimizer = \"adam\", metrics = [\"accuracy\"])"
   ],
   "outputs": [],
   "metadata": {}
  },
  {
   "cell_type": "code",
   "execution_count": 29,
   "source": [
    "filename = 'ieee_faq_bot.h5'\r\n",
    "checkpoint = ModelCheckpoint(filename, monitor='val_loss', verbose=1, save_best_only=True, mode='min')\r\n",
    "history = model.fit(x_train, y_train, epochs = 30, batch_size = 1, validation_data= (x_val, y_val), verbose=1,callbacks=[checkpoint])"
   ],
   "outputs": [
    {
     "output_type": "stream",
     "name": "stdout",
     "text": [
      "Epoch 1/30\n",
      "10788/10788 [==============================] - 238s 21ms/step - loss: 2.8104 - accuracy: 0.1689 - val_loss: 1.3629 - val_accuracy: 0.5657\n",
      "\n",
      "Epoch 00001: val_loss improved from inf to 1.36286, saving model to ieee_faq_bot_1.h5\n",
      "Epoch 2/30\n",
      "10788/10788 [==============================] - 232s 22ms/step - loss: 1.3813 - accuracy: 0.5637 - val_loss: 0.8865 - val_accuracy: 0.743716 - ac\n",
      "\n",
      "Epoch 00002: val_loss improved from 1.36286 to 0.88647, saving model to ieee_faq_bot_1.h5\n",
      "Epoch 3/30\n",
      "10788/10788 [==============================] - 221s 20ms/step - loss: 0.8347 - accuracy: 0.7484 - val_loss: 0.4881 - val_accuracy: 0.8463uracy: 0.74 - ETA: 46s - loss: 0.8384 - accuracy: 0.746 -  - ETA: 0s - loss: 0\n",
      "\n",
      "Epoch 00003: val_loss improved from 0.88647 to 0.48812, saving model to ieee_faq_bot_1.h5\n",
      "Epoch 4/30\n",
      "10788/10788 [==============================] - 230s 21ms/step - loss: 0.5746 - accuracy: 0.8223 - val_loss: 0.4163 - val_accuracy: 0.8869\n",
      "\n",
      "Epoch 00004: val_loss improved from 0.48812 to 0.41629, saving model to ieee_faq_bot_1.h5\n",
      "Epoch 5/30\n",
      "10788/10788 [==============================] - 239s 22ms/step - loss: 0.4220 - accuracy: 0.8745 - val_loss: 0.3960 - val_accuracy: 0.9021\n",
      "\n",
      "Epoch 00005: val_loss improved from 0.41629 to 0.39603, saving model to ieee_faq_bot_1.h5\n",
      "Epoch 6/30\n",
      "10788/10788 [==============================] - 235s 22ms/step - loss: 0.3405 - accuracy: 0.9011 - val_loss: 0.2709 - val_accuracy: 0.9283\n",
      "\n",
      "Epoch 00006: val_loss improved from 0.39603 to 0.27091, saving model to ieee_faq_bot_1.h5\n",
      "Epoch 7/30\n",
      "10788/10788 [==============================] - 203s 19ms/step - loss: 0.2675 - accuracy: 0.9179 - val_loss: 0.2771 - val_accuracy: 0.9291\n",
      "\n",
      "Epoch 00007: val_loss did not improve from 0.27091\n",
      "Epoch 8/30\n",
      "10788/10788 [==============================] - 224s 21ms/step - loss: 0.2164 - accuracy: 0.9361 - val_loss: 0.3024 - val_accuracy: 0.9266\n",
      "\n",
      "Epoch 00008: val_loss did not improve from 0.27091\n",
      "Epoch 9/30\n",
      "10788/10788 [==============================] - 237s 22ms/step - loss: 0.1872 - accuracy: 0.9479 - val_loss: 0.2761 - val_accuracy: 0.9422 0.1890 - accuracy: - ETA: 51s - loss: 0.1889 - accur - ETA:  - ETA: 48s - loss: 0 - ETA: 46s - loss: 0.1887 -  - - ETA: 0s - loss: 0.1872 - accura\n",
      "\n",
      "Epoch 00009: val_loss did not improve from 0.27091\n",
      "Epoch 10/30\n",
      "10788/10788 [==============================] - 231s 21ms/step - loss: 0.1603 - accuracy: 0.9551 - val_loss: 0.2041 - val_accuracy: 0.9497loss: 0 - ETA: 1s - loss: 0.1602 - accuracy - ETA: 1s - los - ETA: 0s - loss: 0.1603 - accuracy\n",
      "\n",
      "Epoch 00010: val_loss improved from 0.27091 to 0.20407, saving model to ieee_faq_bot_1.h5\n",
      "Epoch 11/30\n",
      "10788/10788 [==============================] - 251s 23ms/step - loss: 0.1398 - accuracy: 0.9622 - val_loss: 0.2521 - val_accuracy: 0.9522\n",
      "\n",
      "Epoch 00011: val_loss did not improve from 0.20407\n",
      "Epoch 12/30\n",
      "10788/10788 [==============================] - 240s 22ms/step - loss: 0.1025 - accuracy: 0.9693 - val_loss: 0.2216 - val_accuracy: 0.9550: 56s - ETA: 52s - loss: 0.0997 - accuracy: 0 - ETA: 49s - loss: 0.0999 - accuracy: 0.96 - ETA: 49s - loss: 0.099 - ETA\n",
      "\n",
      "Epoch 00012: val_loss did not improve from 0.20407\n",
      "Epoch 13/30\n",
      "10788/10788 [==============================] - 256s 24ms/step - loss: 0.1058 - accuracy: 0.9707 - val_loss: 0.1801 - val_accuracy: 0.9630\n",
      "\n",
      "Epoch 00013: val_loss improved from 0.20407 to 0.18006, saving model to ieee_faq_bot_1.h5\n",
      "Epoch 14/30\n",
      "10788/10788 [==============================] - 227s 21ms/step - loss: 0.0925 - accuracy: 0.9772 - val_loss: 0.1653 - val_accuracy: 0.9630\n",
      "\n",
      "Epoch 00014: val_loss improved from 0.18006 to 0.16526, saving model to ieee_faq_bot_1.h5\n",
      "Epoch 15/30\n",
      "10788/10788 [==============================] - 243s 23ms/step - loss: 0.0811 - accuracy: 0.9796 - val_loss: 0.2041 - val_accuracy: 0.9627\n",
      "\n",
      "Epoch 00015: val_loss did not improve from 0.16526\n",
      "Epoch 16/30\n",
      "10788/10788 [==============================] - 252s 23ms/step - loss: 0.1031 - accuracy: 0.9753 - val_loss: 0.2007 - val_accuracy: 0.96221008 - -\n",
      "\n",
      "Epoch 00016: val_loss did not improve from 0.16526\n",
      "Epoch 17/30\n",
      "10788/10788 [==============================] - 243s 23ms/step - loss: 0.0637 - accuracy: 0.9816 - val_loss: 0.2285 - val_accuracy: 0.9561\n",
      "\n",
      "Epoch 00017: val_loss did not improve from 0.16526\n",
      "Epoch 18/30\n",
      "10788/10788 [==============================] - 239s 22ms/step - loss: 0.0768 - accuracy: 0.9807 - val_loss: 0.1869 - val_accuracy: 0.9675 - accuracy: - ETA: 14s - loss: 0.0752 - acc - ETA: 13s\n",
      "\n",
      "Epoch 00018: val_loss did not improve from 0.16526\n",
      "Epoch 19/30\n",
      "10788/10788 [==============================] - 235s 22ms/step - loss: 0.0841 - accuracy: 0.9793 - val_loss: 0.3068 - val_accuracy: 0.9566\n",
      "\n",
      "Epoch 00019: val_loss did not improve from 0.16526\n",
      "Epoch 20/30\n",
      "10788/10788 [==============================] - 231s 21ms/step - loss: 0.0595 - accuracy: 0.9859 - val_loss: 0.2337 - val_accuracy: 0.9666\n",
      "\n",
      "Epoch 00020: val_loss did not improve from 0.16526\n",
      "Epoch 21/30\n",
      "10788/10788 [==============================] - 242s 22ms/step - loss: 0.0593 - accuracy: 0.9866 - val_loss: 0.3333 - val_accuracy: 0.9619- - ETA: - ETA: 33s - loss: 0.0540 - accu - ETA: 33s - loss: 0.0541 - accur - ETA: 32s -  - ETA: 30s - loss: 0.0546 - accuracy:  - - ETA: 25s  - ETA: 21s - loss: 0.0562 - accurac - \n",
      "\n",
      "Epoch 00021: val_loss did not improve from 0.16526\n",
      "Epoch 22/30\n",
      "10788/10788 [==============================] - 220s 20ms/step - loss: 0.0763 - accuracy: 0.9850 - val_loss: 0.2033 - val_accuracy: 0.9664\n",
      "\n",
      "Epoch 00022: val_loss did not improve from 0.16526\n",
      "Epoch 23/30\n",
      "10788/10788 [==============================] - 236s 22ms/step - loss: 0.0749 - accuracy: 0.9840 - val_loss: 0.2129 - val_accuracy: 0.962724s - loss: 0.0763 - accuracy: 0.98 - ETA: 24s - loss: 0.0763 - accuracy: 0.98 - ETA: 24s - loss: 0.0763 - accuracy: 0.9 - ETA: 2 - ETA: 2s - loss: 0.0750 - accuracy:  - ETA: 1s - loss: 0.0750 - accuracy:  - ETA: 1s - los - ETA: \n",
      "\n",
      "Epoch 00023: val_loss did not improve from 0.16526\n",
      "Epoch 24/30\n",
      "10788/10788 [==============================] - 247s 23ms/step - loss: 0.0601 - accuracy: 0.9855 - val_loss: 0.2242 - val_accuracy: 0.9678\n",
      "\n",
      "Epoch 00024: val_loss did not improve from 0.16526\n",
      "Epoch 25/30\n",
      "10788/10788 [==============================] - 246s 23ms/step - loss: 0.0585 - accuracy: 0.9850 - val_loss: 0.2796 - val_accuracy: 0.9678A: 59s - loss: 0.0 - ETA: 57s - loss: 0.0571 - acc - ETA: 57s - loss: 0.0571 - accuracy: 0.9 - ETA: 57s - loss: 0.0571 - accur - ETA: 56s - loss: 0.0572 - accuracy: 0.985 - - ETA: 49s - loss: 0.0575 - accuracy: 0.9 - ETA: 49s - loss: 0.0575 - accuracy: 0.985 - ETA: 49s - -  - ETA: 42s - - ETA: 37s - ETA: 25s - loss: 0.0583 - accuracy: 0. - ETA: 2 - ETA: 20s - ETA: 0s - loss: 0\n",
      "\n",
      "Epoch 00025: val_loss did not improve from 0.16526\n",
      "Epoch 26/30\n",
      "10788/10788 [==============================] - 228s 21ms/step - loss: 0.0549 - accuracy: 0.9871 - val_loss: 0.2363 - val_accuracy: 0.9630 loss: 0.0548 - accuracy: 0.98\n",
      "\n",
      "Epoch 00026: val_loss did not improve from 0.16526\n",
      "Epoch 27/30\n",
      "10788/10788 [==============================] - 236s 22ms/step - loss: 0.0505 - accuracy: 0.9879 - val_loss: 0.2201 - val_accuracy: 0.9678A: 57s - loss: 0.0474 - accuracy: 0.9 - ETA: 57s - loss: 0.0474 - accu\n",
      "\n",
      "Epoch 00027: val_loss did not improve from 0.16526\n",
      "Epoch 28/30\n",
      "10788/10788 [==============================] - 242s 22ms/step - loss: 0.0611 - accuracy: 0.9870 - val_loss: 0.2263 - val_accuracy: 0.9633\n",
      "\n",
      "Epoch 00028: val_loss did not improve from 0.16526\n",
      "Epoch 29/30\n",
      "10788/10788 [==============================] - 210s 19ms/step - loss: 0.0456 - accuracy: 0.9882 - val_loss: 0.2600 - val_accuracy: 0.9622\n",
      "\n",
      "Epoch 00029: val_loss did not improve from 0.16526\n",
      "Epoch 30/30\n",
      "10788/10788 [==============================] - 213s 20ms/step - loss: 0.0342 - accuracy: 0.9908 - val_loss: 0.2284 - val_accuracy: 0.9689\n",
      "\n",
      "Epoch 00030: val_loss did not improve from 0.16526\n"
     ]
    }
   ],
   "metadata": {
    "scrolled": true
   }
  },
  {
   "cell_type": "code",
   "execution_count": 30,
   "source": [
    "model.summary()"
   ],
   "outputs": [
    {
     "output_type": "stream",
     "name": "stdout",
     "text": [
      "Model: \"sequential\"\n",
      "_________________________________________________________________\n",
      "Layer (type)                 Output Shape              Param #   \n",
      "=================================================================\n",
      "embedding (Embedding)        (None, 58, 128)           376576    \n",
      "_________________________________________________________________\n",
      "bidirectional (Bidirectional (None, 256)               263168    \n",
      "_________________________________________________________________\n",
      "dense (Dense)                (None, 64)                16448     \n",
      "_________________________________________________________________\n",
      "dropout (Dropout)            (None, 64)                0         \n",
      "_________________________________________________________________\n",
      "dense_1 (Dense)              (None, 27)                1755      \n",
      "=================================================================\n",
      "Total params: 657,947\n",
      "Trainable params: 281,371\n",
      "Non-trainable params: 376,576\n",
      "_________________________________________________________________\n"
     ]
    }
   ],
   "metadata": {}
  },
  {
   "cell_type": "code",
   "execution_count": 31,
   "source": [
    "def plot_accuracy(history):\r\n",
    "    plt.plot(history.history['val_accuracy'])\r\n",
    "    plt.plot(history.history['accuracy'])\r\n",
    "    plt.title('model accuracy')\r\n",
    "    plt.ylabel('accuracy')\r\n",
    "    plt.xlabel('epoch')\r\n",
    "    plt.legend(['val_accuracy', 'Train_accuracy'], loc = 'lower right')\r\n",
    "    plt.show()"
   ],
   "outputs": [],
   "metadata": {}
  },
  {
   "cell_type": "code",
   "execution_count": 32,
   "source": [
    "plot_accuracy(history)"
   ],
   "outputs": [
    {
     "output_type": "display_data",
     "data": {
      "text/plain": [
       "<Figure size 432x288 with 1 Axes>"
      ],
      "image/png": "[encoded data removed]"
     },
     "metadata": {
      "needs_background": "light"
     }
    }
   ],
   "metadata": {}
  },
  {
   "cell_type": "code",
   "execution_count": 33,
   "source": [
    "def plot_loss(history):\r\n",
    "    plt.plot(history.history['val_loss'])\r\n",
    "    plt.plot(history.history['loss'])\r\n",
    "    plt.title('model loss')\r\n",
    "    plt.ylabel('loss')\r\n",
    "    plt.xlabel('epoch')\r\n",
    "    plt.legend(['val_loss', 'train_loss'], loc = 'best')\r\n",
    "    plt.show()"
   ],
   "outputs": [],
   "metadata": {}
  },
  {
   "cell_type": "code",
   "execution_count": 34,
   "source": [
    "plot_loss(history)"
   ],
   "outputs": [
    {
     "output_type": "display_data",
     "data": {
      "text/plain": [
       "<Figure size 432x288 with 1 Axes>"
      ],
      "image/png": "[encoded data removed]"
     },
     "metadata": {
      "needs_background": "light"
     }
    }
   ],
   "metadata": {}
  },
  {
   "cell_type": "code",
   "execution_count": 35,
   "source": [
    "_,acc=model.evaluate(x_val,y_val)\r\n",
    "print(acc*100)"
   ],
   "outputs": [
    {
     "output_type": "stream",
     "name": "stdout",
     "text": [
      "113/113 [==============================] - 2s 11ms/step - loss: 0.2284 - accuracy: 0.9689\n",
      "96.88629508018494\n"
     ]
    }
   ],
   "metadata": {}
  },
  {
   "cell_type": "code",
   "execution_count": 23,
   "source": [
    "#load the pre-trained model\r\n",
    "loaded_model = load_model(\"ieee_faq_bot.h5\")"
   ],
   "outputs": [],
   "metadata": {}
  },
  {
   "cell_type": "code",
   "execution_count": 24,
   "source": [
    "res_time_initial=time.time()"
   ],
   "outputs": [],
   "metadata": {}
  },
  {
   "cell_type": "code",
   "execution_count": 25,
   "source": [
    "def predictions(user_query):\r\n",
    "    #clean and tokenize input user query\r\n",
    "    clean_user_query = re.sub(r\"[^ a-z A-Z 0-9]\", \" \", user_query)\r\n",
    "    clean_user_query = word_tokenize(clean_user_query)\r\n",
    "    clean_user_query = [w.lower() for w in clean_user_query]\r\n",
    "    tokenized_user_query = word_tokenizer.texts_to_sequences(clean_user_query)\r\n",
    "\r\n",
    "    #filter unknown words\r\n",
    "    if [] in tokenized_user_query:\r\n",
    "        tokenized_user_query = list(filter(None, tokenized_user_query))\r\n",
    "\r\n",
    "    #reshape array as per our needs\r\n",
    "    tokenized_user_query_len=len(tokenized_user_query)\r\n",
    "    tokenized_user_query = np.array(tokenized_user_query).reshape(1, tokenized_user_query_len)\r\n",
    "    ready_user_query = padding_doc(tokenized_user_query, max_length)\r\n",
    "\r\n",
    "    #make prediction\r\n",
    "    all_predictions = loaded_model.predict(ready_user_query)\r\n",
    "\r\n",
    "    return all_predictions"
   ],
   "outputs": [],
   "metadata": {}
  },
  {
   "cell_type": "code",
   "execution_count": 26,
   "source": [
    "def sort_predictions(all_predictions, classes):\r\n",
    "    \r\n",
    "    #as all_predictions is n dimentional array with shape (1,27)\r\n",
    "    predictions = all_predictions[0]\r\n",
    "    classes = np.array(classes)\r\n",
    "    #use argsort to get sorted indices in dec order\r\n",
    "    ids = np.argsort(-predictions)\r\n",
    "    #sort classes as per sorted indices above\r\n",
    "    classes = classes[ids]\r\n",
    "    #sort predictions array in dec order\r\n",
    "    predictions = -np.sort(-predictions)\r\n",
    "    #get the intent with highest probability\r\n",
    "    pred_intent = classes[0]\r\n",
    "\r\n",
    "    return pred_intent"
   ],
   "outputs": [],
   "metadata": {}
  },
  {
   "cell_type": "code",
   "execution_count": 27,
   "source": [
    "def ieee_faq_bot(user_query):\r\n",
    "    #pass the user query through predictions function and get predicted intent\r\n",
    "    all_predictions = predictions(user_query)\r\n",
    "    predicted_intent = sort_predictions(all_predictions, unique_intent)\r\n",
    "\r\n",
    "    return predicted_intent\r\n"
   ],
   "outputs": [],
   "metadata": {}
  },
  {
   "cell_type": "code",
   "execution_count": 28,
   "source": [
    "ieee_faq_bot(\"hi\")"
   ],
   "outputs": [
    {
     "output_type": "execute_result",
     "data": {
      "text/plain": [
       "'gen_hi'"
      ]
     },
     "metadata": {},
     "execution_count": 28
    }
   ],
   "metadata": {}
  },
  {
   "cell_type": "code",
   "execution_count": 29,
   "source": [
    "time.time()-res_time_initial"
   ],
   "outputs": [
    {
     "output_type": "execute_result",
     "data": {
      "text/plain": [
       "6.811220645904541"
      ]
     },
     "metadata": {},
     "execution_count": 29
    }
   ],
   "metadata": {}
  }
 ],
 "metadata": {
  "kernelspec": {
   "display_name": "Python [conda env:tf-gpu] *",
   "language": "python",
   "name": "conda-env-tf-gpu-py"
  },
  "language_info": {
   "codemirror_mode": {
    "name": "ipython",
    "version": 3
   },
   "file_extension": ".py",
   "mimetype": "text/x-python",
   "name": "python",
   "nbconvert_exporter": "python",
   "pygments_lexer": "ipython3",
   "version": "3.8.8"
  }
 },
 "nbformat": 4,
 "nbformat_minor": 5
}