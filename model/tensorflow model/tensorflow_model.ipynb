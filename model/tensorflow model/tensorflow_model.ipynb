{
 "cells": [
  {
   "cell_type": "code",
   "execution_count": 2,
   "id": "healthy-college",
   "metadata": {},
   "outputs": [],
   "source": [
    "import pandas as pd\n",
    "import numpy as np\n",
    "import matplotlib.pyplot as plt\n",
    "import tensorflow as tf\n",
    "\n",
    "physical_devices = tf.config.list_physical_devices('GPU')\n",
    "tf.config.experimental.set_memory_growth(physical_devices[0], enable=True)"
   ]
  },
  {
   "cell_type": "code",
   "execution_count": 3,
   "id": "circular-mills",
   "metadata": {},
   "outputs": [],
   "source": [
    "from tensorflow import keras\n",
    "from tensorflow.keras.models import Sequential, load_model\n",
    "from tensorflow.keras.layers import Dense, LSTM, Bidirectional, Embedding, Dropout\n",
    "from tensorflow.keras.preprocessing.text import Tokenizer\n",
    "from tensorflow.keras.preprocessing.sequence import pad_sequences\n",
    "from tensorflow.keras.utils import to_categorical\n",
    "from tensorflow.keras.callbacks import ModelCheckpoint\n",
    "from tensorflow.keras.optimizers import SGD"
   ]
  },
  {
   "cell_type": "code",
   "execution_count": 4,
   "id": "relevant-bibliography",
   "metadata": {},
   "outputs": [],
   "source": [
    "import re\n",
    "import nltk\n",
    "from nltk.corpus import stopwords\n",
    "from nltk.tokenize import word_tokenize\n",
    "from nltk.stem.lancaster import LancasterStemmer\n",
    "from sklearn.preprocessing import OneHotEncoder"
   ]
  },
  {
   "cell_type": "code",
   "execution_count": 5,
   "id": "formal-france",
   "metadata": {},
   "outputs": [],
   "source": [
    "def load_dataset(filename):\n",
    "    #read data from csv file with 2 columns: one for question and other for intent\n",
    "    df = pd.read_csv(filename, encoding=\"latin1\", names=[\"question\", \"intent\"])\n",
    "    df = df.dropna()\n",
    "    intent = df[\"intent\"]\n",
    "    questions = list(df[\"question\"])\n",
    "    return (intent, questions)"
   ]
  },
  {
   "cell_type": "code",
   "execution_count": 47,
   "id": "nominated-genesis",
   "metadata": {},
   "outputs": [],
   "source": [
    "intent, question = load_dataset(\"augmented_data.csv\")"
   ]
  },
  {
   "cell_type": "code",
   "execution_count": 7,
   "id": "complimentary-sensitivity",
   "metadata": {},
   "outputs": [],
   "source": [
    "unique_intent = [\n",
    "    \"ieee_github\",\n",
    "    \"ieee_how_long\",\n",
    "    \"gen_who_made\",\n",
    "    \"ieee_domains\",\n",
    "    \"ieee_be_part_who\",\n",
    "    \"gen_human\",\n",
    "    \"ieee_past_events\",\n",
    "    \"ieee_sponsor\",\n",
    "    \"gen_help\",\n",
    "    \"ieee_projects\",\n",
    "    \"gen_who_you\",\n",
    "    \"ieee_what_does\",\n",
    "    \"gen_hi\",\n",
    "    \"ieee_collab\",\n",
    "    \"gen_thanks\",\n",
    "    \"ieee_other_college\",\n",
    "    \"ieee_current_board\",\n",
    "    \"ieee_other_linked\",\n",
    "    \"ieee_social_media\",\n",
    "    \"gen_query\",\n",
    "    \"ieee_what\",\n",
    "    \"gen_bot\",\n",
    "    \"ieee_future_events\",\n",
    "    \"ieee_further_contact\",\n",
    "    \"gen_how_you\",\n",
    "    \"ieee_techloop\",\n",
    "    \"gen_bye\",\n",
    "]"
   ]
  },
  {
   "cell_type": "code",
   "execution_count": 8,
   "id": "joint-lodging",
   "metadata": {},
   "outputs": [],
   "source": [
    "def cleaning(question):\n",
    "    words = []\n",
    "    #clean the questions of all punctuations\n",
    "    for word in question:\n",
    "        clean = re.sub(r\"[^a-z A-Z 0-9]\", \" \", word)\n",
    "        clean = word_tokenize(clean)\n",
    "        words.append([i.lower() for i in clean])\n",
    "\n",
    "    return words"
   ]
  },
  {
   "cell_type": "code",
   "execution_count": 9,
   "id": "musical-mixer",
   "metadata": {},
   "outputs": [],
   "source": [
    "cleaned_words = cleaning(question)"
   ]
  },
  {
   "cell_type": "code",
   "execution_count": 11,
   "id": "difficult-remark",
   "metadata": {},
   "outputs": [],
   "source": [
    "def create_tokenizer(cleaned_words, filters='!\"#$%&*+,-./:;<=>?@[\\]^`{|}~'):\n",
    "    #tokenize the cleaned words in questions upto word level \n",
    "    token = Tokenizer(filters=filters)\n",
    "    token.fit_on_texts(cleaned_words)\n",
    "    return token"
   ]
  },
  {
   "cell_type": "code",
   "execution_count": 12,
   "id": "identified-dressing",
   "metadata": {},
   "outputs": [],
   "source": [
    "def max_length(cleaned_words):\n",
    "    #get the number of words in longest question\n",
    "    return len(max(cleaned_words, key=len))"
   ]
  },
  {
   "cell_type": "code",
   "execution_count": 13,
   "id": "missing-vampire",
   "metadata": {},
   "outputs": [],
   "source": [
    "word_tokenizer = create_tokenizer(cleaned_words)\n",
    "vocab_size = len(word_tokenizer.word_index) + 1\n",
    "max_length = max_length(cleaned_words)"
   ]
  },
  {
   "cell_type": "code",
   "execution_count": 14,
   "id": "nasty-wilson",
   "metadata": {},
   "outputs": [],
   "source": [
    "def encoding_doc(token, words):\n",
    "    return(token.texts_to_sequences(words))"
   ]
  },
  {
   "cell_type": "code",
   "execution_count": 15,
   "id": "vanilla-wayne",
   "metadata": {},
   "outputs": [],
   "source": [
    "encoded_doc = encoding_doc(word_tokenizer, cleaned_words)"
   ]
  },
  {
   "cell_type": "code",
   "execution_count": 16,
   "id": "pointed-curve",
   "metadata": {},
   "outputs": [],
   "source": [
    "def padding_doc(encoded_doc, max_length):\n",
    "    return(pad_sequences(encoded_doc, maxlen = max_length, padding = \"post\"))"
   ]
  },
  {
   "cell_type": "code",
   "execution_count": 17,
   "id": "advisory-affect",
   "metadata": {},
   "outputs": [],
   "source": [
    "padded_doc = padding_doc(encoded_doc, max_length)"
   ]
  },
  {
   "cell_type": "code",
   "execution_count": 18,
   "id": "floating-redhead",
   "metadata": {},
   "outputs": [],
   "source": [
    "output_tokenizer = create_tokenizer(unique_intent)"
   ]
  },
  {
   "cell_type": "code",
   "execution_count": 20,
   "id": "assured-satin",
   "metadata": {},
   "outputs": [],
   "source": [
    "encoded_output = encoding_doc(output_tokenizer, intent)"
   ]
  },
  {
   "cell_type": "code",
   "execution_count": 21,
   "id": "simple-isolation",
   "metadata": {},
   "outputs": [],
   "source": [
    "encoded_output = np.array(encoded_output).reshape(len(encoded_output), 1)"
   ]
  },
  {
   "cell_type": "code",
   "execution_count": 23,
   "id": "worse-restaurant",
   "metadata": {},
   "outputs": [],
   "source": [
    "def one_hot(encode):\n",
    "    o = OneHotEncoder(sparse = False)\n",
    "    return(o.fit_transform(encode))"
   ]
  },
  {
   "cell_type": "code",
   "execution_count": 24,
   "id": "younger-tackle",
   "metadata": {},
   "outputs": [],
   "source": [
    "output_one_hot = one_hot(encoded_output)"
   ]
  },
  {
   "cell_type": "code",
   "execution_count": 26,
   "id": "common-disposition",
   "metadata": {},
   "outputs": [],
   "source": [
    "from sklearn.model_selection import train_test_split"
   ]
  },
  {
   "cell_type": "code",
   "execution_count": 27,
   "id": "latin-genome",
   "metadata": {},
   "outputs": [],
   "source": [
    "x_train, x_val, y_train, y_val = train_test_split(padded_doc, output_one_hot, shuffle = True, test_size = 0.2)"
   ]
  },
  {
   "cell_type": "code",
   "execution_count": 28,
   "id": "motivated-interaction",
   "metadata": {},
   "outputs": [
    {
     "name": "stdout",
     "output_type": "stream",
     "text": [
      "Shape of train_X = (11508, 58) and train_Y = (11508, 27)\n",
      "Shape of val_X = (2877, 58) and val_Y = (2877, 27)\n"
     ]
    }
   ],
   "source": [
    "print(\"Shape of train_X = %s and train_Y = %s\" % (x_train.shape, y_train.shape))\n",
    "print(\"Shape of val_X = %s and val_Y = %s\" % (x_val.shape, y_val.shape))"
   ]
  },
  {
   "cell_type": "code",
   "execution_count": 31,
   "id": "nasty-pursuit",
   "metadata": {},
   "outputs": [],
   "source": [
    "model=Sequential()\n",
    "model.add(Embedding(vocab_size, 128, input_length = max_length, trainable = False))\n",
    "model.add(Bidirectional(LSTM(128,return_sequences=True)))\n",
    "model.add(Bidirectional(LSTM(128)))\n",
    "model.add(Dense(64, activation = \"relu\"))    \n",
    "model.add(Dropout(0.5))\n",
    "model.add(Dense(27, activation = \"softmax\"))"
   ]
  },
  {
   "cell_type": "code",
   "execution_count": 32,
   "id": "successful-herald",
   "metadata": {},
   "outputs": [],
   "source": [
    "model.compile(loss = \"categorical_crossentropy\", optimizer = \"adam\", metrics = [\"accuracy\"])"
   ]
  },
  {
   "cell_type": "code",
   "execution_count": 33,
   "id": "invisible-decision",
   "metadata": {
    "scrolled": true
   },
   "outputs": [
    {
     "name": "stdout",
     "output_type": "stream",
     "text": [
      "Epoch 1/20\n",
      "1439/1439 [==============================] - 45s 25ms/step - loss: 2.9962 - accuracy: 0.1203 - val_loss: 1.7806 - val_accuracy: 0.4150\n",
      "\n",
      "Epoch 00001: val_loss improved from inf to 1.78058, saving model to ieee_faq_bot.h5\n",
      "Epoch 2/20\n",
      "1439/1439 [==============================] - 31s 21ms/step - loss: 1.6731 - accuracy: 0.4764 - val_loss: 1.0340 - val_accuracy: 0.6628\n",
      "\n",
      "Epoch 00002: val_loss improved from 1.78058 to 1.03402, saving model to ieee_faq_bot.h5\n",
      "Epoch 3/20\n",
      "1439/1439 [==============================] - 33s 23ms/step - loss: 1.1332 - accuracy: 0.6383 - val_loss: 0.7680 - val_accuracy: 0.7543\n",
      "\n",
      "Epoch 00003: val_loss improved from 1.03402 to 0.76801, saving model to ieee_faq_bot.h5\n",
      "Epoch 4/20\n",
      "1439/1439 [==============================] - 37s 26ms/step - loss: 0.8385 - accuracy: 0.7458 - val_loss: 0.5672 - val_accuracy: 0.8189\n",
      "\n",
      "Epoch 00004: val_loss improved from 0.76801 to 0.56723, saving model to ieee_faq_bot.h5\n",
      "Epoch 5/20\n",
      "1439/1439 [==============================] - 40s 27ms/step - loss: 0.5998 - accuracy: 0.8212 - val_loss: 0.5567 - val_accuracy: 0.8283\n",
      "\n",
      "Epoch 00005: val_loss improved from 0.56723 to 0.55670, saving model to ieee_faq_bot.h5\n",
      "Epoch 6/20\n",
      "1439/1439 [==============================] - 41s 29ms/step - loss: 0.5153 - accuracy: 0.8430 - val_loss: 0.4182 - val_accuracy: 0.8749\n",
      "\n",
      "Epoch 00006: val_loss improved from 0.55670 to 0.41823, saving model to ieee_faq_bot.h5\n",
      "Epoch 7/20\n",
      "1439/1439 [==============================] - 43s 30ms/step - loss: 0.4133 - accuracy: 0.8800 - val_loss: 0.3663 - val_accuracy: 0.8929\n",
      "\n",
      "Epoch 00007: val_loss improved from 0.41823 to 0.36628, saving model to ieee_faq_bot.h5\n",
      "Epoch 8/20\n",
      "1439/1439 [==============================] - 41s 28ms/step - loss: 0.3611 - accuracy: 0.8979 - val_loss: 0.3040 - val_accuracy: 0.9138\n",
      "\n",
      "Epoch 00008: val_loss improved from 0.36628 to 0.30398, saving model to ieee_faq_bot.h5\n",
      "Epoch 9/20\n",
      "1439/1439 [==============================] - 38s 27ms/step - loss: 0.2740 - accuracy: 0.9187 - val_loss: 0.3245 - val_accuracy: 0.9131\n",
      "\n",
      "Epoch 00009: val_loss did not improve from 0.30398\n",
      "Epoch 10/20\n",
      "1439/1439 [==============================] - 42s 29ms/step - loss: 0.2651 - accuracy: 0.9266 - val_loss: 0.2741 - val_accuracy: 0.9298\n",
      "\n",
      "Epoch 00010: val_loss improved from 0.30398 to 0.27408, saving model to ieee_faq_bot.h5\n",
      "Epoch 11/20\n",
      "1439/1439 [==============================] - 48s 33ms/step - loss: 0.2004 - accuracy: 0.9434 - val_loss: 0.2265 - val_accuracy: 0.9458\n",
      "\n",
      "Epoch 00011: val_loss improved from 0.27408 to 0.22645, saving model to ieee_faq_bot.h5\n",
      "Epoch 12/20\n",
      "1439/1439 [==============================] - 41s 29ms/step - loss: 0.1912 - accuracy: 0.9484 - val_loss: 0.2574 - val_accuracy: 0.9385.1912 - ac\n",
      "\n",
      "Epoch 00012: val_loss did not improve from 0.22645\n",
      "Epoch 13/20\n",
      "1439/1439 [==============================] - 40s 28ms/step - loss: 0.1657 - accuracy: 0.9563 - val_loss: 0.2074 - val_accuracy: 0.9489\n",
      "\n",
      "Epoch 00013: val_loss improved from 0.22645 to 0.20737, saving model to ieee_faq_bot.h5\n",
      "Epoch 14/20\n",
      "1439/1439 [==============================] - 41s 29ms/step - loss: 0.1171 - accuracy: 0.9648 - val_loss: 0.2353 - val_accuracy: 0.9482\n",
      "\n",
      "Epoch 00014: val_loss did not improve from 0.20737\n",
      "Epoch 15/20\n",
      "1439/1439 [==============================] - 42s 29ms/step - loss: 0.1348 - accuracy: 0.9635 - val_loss: 0.2224 - val_accuracy: 0.9510\n",
      "\n",
      "Epoch 00015: val_loss did not improve from 0.20737\n",
      "Epoch 16/20\n",
      "1439/1439 [==============================] - 46s 32ms/step - loss: 0.1394 - accuracy: 0.9631 - val_loss: 0.2096 - val_accuracy: 0.9548\n",
      "\n",
      "Epoch 00016: val_loss did not improve from 0.20737\n",
      "Epoch 17/20\n",
      "1439/1439 [==============================] - 45s 31ms/step - loss: 0.1048 - accuracy: 0.9719 - val_loss: 0.2490 - val_accuracy: 0.9416\n",
      "\n",
      "Epoch 00017: val_loss did not improve from 0.20737\n",
      "Epoch 18/20\n",
      "1439/1439 [==============================] - 45s 31ms/step - loss: 0.1033 - accuracy: 0.9702 - val_loss: 0.2457 - val_accuracy: 0.9510\n",
      "\n",
      "Epoch 00018: val_loss did not improve from 0.20737\n",
      "Epoch 19/20\n",
      "1439/1439 [==============================] - 43s 30ms/step - loss: 0.0905 - accuracy: 0.9757 - val_loss: 0.3351 - val_accuracy: 0.9367\n",
      "\n",
      "Epoch 00019: val_loss did not improve from 0.20737\n",
      "Epoch 20/20\n",
      "1439/1439 [==============================] - 46s 32ms/step - loss: 0.1152 - accuracy: 0.9715 - val_loss: 0.3231 - val_accuracy: 0.9388\n",
      "\n",
      "Epoch 00020: val_loss did not improve from 0.20737\n"
     ]
    }
   ],
   "source": [
    "filename = 'ieee_faq_bot.h5'\n",
    "checkpoint = ModelCheckpoint(filename, monitor='val_loss', verbose=1, save_best_only=True, mode='min')\n",
    "history = model.fit(x_train, y_train, epochs = 20, batch_size = 8, validation_data= (x_val, y_val), verbose=1,callbacks=[checkpoint])"
   ]
  },
  {
   "cell_type": "code",
   "execution_count": 34,
   "id": "rising-atlanta",
   "metadata": {},
   "outputs": [
    {
     "name": "stdout",
     "output_type": "stream",
     "text": [
      "Model: \"sequential_1\"\n",
      "_________________________________________________________________\n",
      "Layer (type)                 Output Shape              Param #   \n",
      "=================================================================\n",
      "embedding_1 (Embedding)      (None, 58, 128)           376576    \n",
      "_________________________________________________________________\n",
      "bidirectional_2 (Bidirection (None, 58, 256)           263168    \n",
      "_________________________________________________________________\n",
      "bidirectional_3 (Bidirection (None, 256)               394240    \n",
      "_________________________________________________________________\n",
      "dense_2 (Dense)              (None, 64)                16448     \n",
      "_________________________________________________________________\n",
      "dropout_1 (Dropout)          (None, 64)                0         \n",
      "_________________________________________________________________\n",
      "dense_3 (Dense)              (None, 27)                1755      \n",
      "=================================================================\n",
      "Total params: 1,052,187\n",
      "Trainable params: 675,611\n",
      "Non-trainable params: 376,576\n",
      "_________________________________________________________________\n"
     ]
    }
   ],
   "source": [
    "model.summary()"
   ]
  },
  {
   "cell_type": "code",
   "execution_count": 35,
   "id": "vocational-constraint",
   "metadata": {},
   "outputs": [],
   "source": [
    "def plot_accuracy(history):\n",
    "    plt.plot(history.history['val_accuracy'])\n",
    "    plt.plot(history.history['accuracy'])\n",
    "    plt.title('model accuracy')\n",
    "    plt.ylabel('accuracy')\n",
    "    plt.xlabel('epoch')\n",
    "    plt.legend(['val_accuracy', 'Train_accuracy'], loc = 'lower right')\n",
    "    plt.show()"
   ]
  },
  {
   "cell_type": "code",
   "execution_count": 36,
   "id": "intimate-tactics",
   "metadata": {},
   "outputs": [
    {
     "data": {
      "image/png": "[encoded data removed]",
      "text/plain": [
       "<Figure size 432x288 with 1 Axes>"
      ]
     },
     "metadata": {
      "needs_background": "light"
     },
     "output_type": "display_data"
    }
   ],
   "source": [
    "plot_accuracy(history)"
   ]
  },
  {
   "cell_type": "code",
   "execution_count": 37,
   "id": "rapid-diagnosis",
   "metadata": {},
   "outputs": [],
   "source": [
    "def plot_loss(history):\n",
    "    plt.plot(history.history['val_loss'])\n",
    "    plt.plot(history.history['loss'])\n",
    "    plt.title('model loss')\n",
    "    plt.ylabel('loss')\n",
    "    plt.xlabel('epoch')\n",
    "    plt.legend(['val_loss', 'train_loss'], loc = 'best')\n",
    "    plt.show()"
   ]
  },
  {
   "cell_type": "code",
   "execution_count": 38,
   "id": "historic-techno",
   "metadata": {},
   "outputs": [
    {
     "data": {
      "image/png": "[encoded data removed]",
      "text/plain": [
       "<Figure size 432x288 with 1 Axes>"
      ]
     },
     "metadata": {
      "needs_background": "light"
     },
     "output_type": "display_data"
    }
   ],
   "source": [
    "plot_loss(history)"
   ]
  },
  {
   "cell_type": "code",
   "execution_count": 39,
   "id": "indian-script",
   "metadata": {},
   "outputs": [
    {
     "name": "stdout",
     "output_type": "stream",
     "text": [
      "90/90 [==============================] - 2s 17ms/step - loss: 0.3231 - accuracy: 0.9388\n",
      "93.88251900672913\n"
     ]
    }
   ],
   "source": [
    "_,acc=model.evaluate(x_val,y_val)\n",
    "print(acc*100)"
   ]
  },
  {
   "cell_type": "code",
   "execution_count": 41,
   "id": "adjusted-certificate",
   "metadata": {},
   "outputs": [],
   "source": [
    "#load the pre-trained model\n",
    "loaded_model = load_model(\"ieee_faq_bot.h5\")"
   ]
  },
  {
   "cell_type": "code",
   "execution_count": 42,
   "id": "floppy-muslim",
   "metadata": {},
   "outputs": [],
   "source": [
    "def predictions(user_query):\n",
    "    #clean and tokenize input user query\n",
    "    clean_user_query = re.sub(r\"[^ a-z A-Z 0-9]\", \" \", user_query)\n",
    "    clean_user_query = word_tokenize(clean_user_query)\n",
    "    clean_user_query = [w.lower() for w in clean_user_query]\n",
    "    tokenized_user_query = word_tokenizer.texts_to_sequences(clean_user_query)\n",
    "\n",
    "    #filter unknown words\n",
    "    if [] in tokenized_user_query:\n",
    "        tokenized_user_query = list(filter(None, tokenized_user_query))\n",
    "\n",
    "    #reshape array as per our needs\n",
    "    tokenized_user_query_len=len(tokenized_user_query)\n",
    "    tokenized_user_query = np.array(tokenized_user_query).reshape(1, tokenized_user_query_len)\n",
    "    ready_user_query = padding_doc(tokenized_user_query, max_length)\n",
    "\n",
    "    #make prediction\n",
    "    all_predictions = loaded_model.predict(ready_user_query)\n",
    "\n",
    "    return all_predictions"
   ]
  },
  {
   "cell_type": "code",
   "execution_count": 43,
   "id": "complicated-breach",
   "metadata": {},
   "outputs": [],
   "source": [
    "def sort_predictions(all_predictions, classes):\n",
    "    \n",
    "    #as all_predictions is n dimentional array with shape (1,27)\n",
    "    predictions = all_predictions[0]\n",
    "    classes = np.array(classes)\n",
    "    #use argsort to get sorted indices in dec order\n",
    "    ids = np.argsort(-predictions)\n",
    "    #sort classes as per sorted indices above\n",
    "    classes = classes[ids]\n",
    "    #sort predictions array in dec order\n",
    "    predictions = -np.sort(-predictions)\n",
    "    #get the intent with highest probability\n",
    "    pred_intent = classes[0]\n",
    "\n",
    "    return pred_intent"
   ]
  },
  {
   "cell_type": "code",
   "execution_count": 44,
   "id": "noble-comfort",
   "metadata": {},
   "outputs": [],
   "source": [
    "def ieee_faq_bot(user_query):\n",
    "    #pass the user query through predictions function and get predicted intent\n",
    "    all_predictions = predictions(user_query)\n",
    "    predicted_intent = sort_predictions(all_predictions, unique_intent)\n",
    "\n",
    "    return predicted_intent\n"
   ]
  },
  {
   "cell_type": "code",
   "execution_count": 46,
   "id": "prerequisite-hacker",
   "metadata": {},
   "outputs": [
    {
     "data": {
      "text/plain": [
       "'ieee_what'"
      ]
     },
     "execution_count": 46,
     "metadata": {},
     "output_type": "execute_result"
    }
   ],
   "source": [
    "ieee_faq_bot(\"What is IEEE\")"
   ]
  },
  {
   "cell_type": "code",
   "execution_count": null,
   "id": "reflected-maldives",
   "metadata": {},
   "outputs": [],
   "source": []
  }
 ],
 "metadata": {
  "kernelspec": {
   "display_name": "Python [conda env:tf-gpu] *",
   "language": "python",
   "name": "conda-env-tf-gpu-py"
  },
  "language_info": {
   "codemirror_mode": {
    "name": "ipython",
    "version": 3
   },
   "file_extension": ".py",
   "mimetype": "text/x-python",
   "name": "python",
   "nbconvert_exporter": "python",
   "pygments_lexer": "ipython3",
   "version": "3.8.8"
  }
 },
 "nbformat": 4,
 "nbformat_minor": 5
}
